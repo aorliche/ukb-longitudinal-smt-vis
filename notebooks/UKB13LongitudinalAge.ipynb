{
 "cells": [
  {
   "cell_type": "code",
   "execution_count": 1,
   "id": "a6ab9786",
   "metadata": {},
   "outputs": [
    {
     "name": "stdout",
     "output_type": "stream",
     "text": [
      "['f_22001_0_0', 'f_21003_3_0', 'f_21003_2_0', 'f_21000_0_0', 'CaAfCarDiff', 'CaIndDiff', 'CaChiDiff', 'f_21000_0_0_comb']\n"
     ]
    }
   ],
   "source": [
    "import pickle\n",
    "import re\n",
    "\n",
    "demodir = '/home/anton/Documents/Tulane/Research/ImageNomer/data/anton/cohorts/UKB/'\n",
    "\n",
    "demo = pickle.load(open(f'{demodir}/demographics.pkl', 'rb'))\n",
    "\n",
    "print(list(demo.keys()))"
   ]
  },
  {
   "cell_type": "code",
   "execution_count": 49,
   "id": "6fd69510",
   "metadata": {},
   "outputs": [
    {
     "name": "stdout",
     "output_type": "stream",
     "text": [
      "40471 2896\n"
     ]
    }
   ],
   "source": [
    "import pickle\n",
    "\n",
    "field = 25753\n",
    "\n",
    "basedir = '/run/media/anton/AntonData1/UKB_MRI_data_11092022/'\n",
    "\n",
    "fc2 = pickle.load(open(f'{basedir}/{field}_2.pkl', 'rb'))\n",
    "fc3 = pickle.load(open(f'{basedir}/{field}_3.pkl', 'rb'))\n",
    "\n",
    "print(len(fc2), len(fc3))"
   ]
  },
  {
   "cell_type": "code",
   "execution_count": 60,
   "id": "a7dfdaf4",
   "metadata": {},
   "outputs": [
    {
     "name": "stdout",
     "output_type": "stream",
     "text": [
      "2722 2722\n"
     ]
    }
   ],
   "source": [
    "import numpy as np\n",
    "\n",
    "first = []\n",
    "second = []\n",
    "\n",
    "for sub in demo['f_21003_3_0']:\n",
    "    if sub not in demo['f_21003_2_0']:\n",
    "        continue\n",
    "    try:\n",
    "        p0 = np.load(f'{demodir}/fc/{sub}_task-20227-2_fc.npy')\n",
    "        p1 = np.load(f'{demodir}/fc/{sub}_task-20227-3_fc.npy')\n",
    "#         p0 = fc2[sub]\n",
    "#         p1 = fc3[sub]\n",
    "        first.append(p0)\n",
    "        second.append(p1)\n",
    "    except:\n",
    "        continue\n",
    "    \n",
    "first = np.stack(first)\n",
    "second = np.stack(second)\n",
    "\n",
    "print(len(first), len(second))"
   ]
  },
  {
   "cell_type": "code",
   "execution_count": 64,
   "id": "fa17a985",
   "metadata": {},
   "outputs": [
    {
     "name": "stdout",
     "output_type": "stream",
     "text": [
      "0.7025\n",
      "0.5\n",
      "0.73\n",
      "0.5\n",
      "0.7575\n",
      "0.5\n",
      "0.7625\n",
      "0.5\n",
      "0.7425\n",
      "0.5\n",
      "0.7325\n",
      "0.5\n",
      "0.77\n",
      "0.5\n",
      "0.7725\n",
      "0.5\n",
      "0.76\n",
      "0.5\n",
      "0.7275\n",
      "0.5\n",
      "0.74575 0.021361472327533968\n",
      "0.5 0.0\n"
     ]
    }
   ],
   "source": [
    "from sklearn.linear_model import LogisticRegression\n",
    "from sklearn.model_selection import train_test_split\n",
    "\n",
    "N = 400\n",
    "\n",
    "errs = []\n",
    "nullerrs = []\n",
    "\n",
    "for _ in range(10):\n",
    "    idcs = np.random.permutation(len(first))\n",
    "\n",
    "    a = first-second\n",
    "    b = second-first\n",
    "\n",
    "    x = np.concatenate([a[idcs[:N]], b[idcs[N:N*2]]])\n",
    "    y = np.concatenate([np.zeros(N), np.ones(N)])\n",
    "\n",
    "    xtr, xt, ytr, yt = train_test_split(x, y, stratify=y, train_size=0.5)\n",
    "\n",
    "    reg = LogisticRegression(max_iter=1000).fit(xtr, ytr)\n",
    "    yhat = reg.predict(xt)\n",
    "    err = np.mean(yhat == yt)\n",
    "    nullerr = np.mean(yt)\n",
    "    if nullerr < 0.5:\n",
    "        nullerr = 1-nullerr\n",
    "    print(err)\n",
    "    print(nullerr)\n",
    "    errs.append(err)\n",
    "    nullerrs.append(nullerr)\n",
    "    \n",
    "print(np.mean(errs), np.std(errs))\n",
    "print(np.mean(nullerrs), np.std(nullerrs))"
   ]
  },
  {
   "cell_type": "code",
   "execution_count": null,
   "id": "6ed345a3",
   "metadata": {},
   "outputs": [],
   "source": []
  }
 ],
 "metadata": {
  "kernelspec": {
   "display_name": "Python 3 (ipykernel)",
   "language": "python",
   "name": "python3"
  },
  "language_info": {
   "codemirror_mode": {
    "name": "ipython",
    "version": 3
   },
   "file_extension": ".py",
   "mimetype": "text/x-python",
   "name": "python",
   "nbconvert_exporter": "python",
   "pygments_lexer": "ipython3",
   "version": "3.11.3"
  }
 },
 "nbformat": 4,
 "nbformat_minor": 5
}
