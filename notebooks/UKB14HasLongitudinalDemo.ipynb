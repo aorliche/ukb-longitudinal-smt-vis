{
 "cells": [
  {
   "cell_type": "code",
   "execution_count": 1,
   "id": "42f31144",
   "metadata": {},
   "outputs": [
    {
     "name": "stdout",
     "output_type": "stream",
     "text": [
      "['f_22001_0_0', 'f_21003_3_0', 'f_21003_2_0', 'f_21000_0_0', 'CaAfCarDiff', 'CaIndDiff', 'CaChiDiff', 'f_21000_0_0_comb']\n"
     ]
    }
   ],
   "source": [
    "import pickle\n",
    "\n",
    "demodir = '/home/anton/Documents/Tulane/Research/ImageNomer/data/anton/cohorts/UKB/'\n",
    "\n",
    "demo = pickle.load(open(f'{demodir}/demographics.pkl', 'rb'))\n",
    "\n",
    "print(list(demo.keys()))"
   ]
  },
  {
   "cell_type": "code",
   "execution_count": 3,
   "id": "e5c0d179",
   "metadata": {},
   "outputs": [
    {
     "name": "stdout",
     "output_type": "stream",
     "text": [
      "40623 2867 2722\n"
     ]
    }
   ],
   "source": [
    "# Add to demo having both scans\n",
    "\n",
    "from pathlib import Path\n",
    "import re\n",
    "\n",
    "scan2 = set()\n",
    "scan3 = set()\n",
    "\n",
    "for scan in Path(f'{demodir}/fc').iterdir():\n",
    "    match = re.match('(\\d+)_task-20227-(\\d+)_fc.npy', scan.name)\n",
    "    if not match:\n",
    "        continue\n",
    "    sub = int(match.group(1))\n",
    "    scan = int(match.group(2))\n",
    "    if scan == 2:\n",
    "        scan2.add(sub)\n",
    "    elif scan == 3:\n",
    "        scan3.add(sub)\n",
    "\n",
    "both = scan2.intersection(scan3)\n",
    "\n",
    "print(len(scan2), len(scan3), len(both))"
   ]
  },
  {
   "cell_type": "code",
   "execution_count": 4,
   "id": "516e3556",
   "metadata": {},
   "outputs": [
    {
     "name": "stdout",
     "output_type": "stream",
     "text": [
      "Done\n"
     ]
    }
   ],
   "source": [
    "# Add to demo file\n",
    "\n",
    "demo['longitudinal'] = dict()\n",
    "\n",
    "for sub in both:\n",
    "    demo['longitudinal'][sub] = 'Yes'\n",
    "    \n",
    "demo = pickle.dump(demo, open(f'{demodir}/demographics.pkl', 'wb'))\n",
    "\n",
    "print('Done')"
   ]
  },
  {
   "cell_type": "code",
   "execution_count": null,
   "id": "e3a2bb11",
   "metadata": {},
   "outputs": [],
   "source": []
  }
 ],
 "metadata": {
  "kernelspec": {
   "display_name": "Python 3 (ipykernel)",
   "language": "python",
   "name": "python3"
  },
  "language_info": {
   "codemirror_mode": {
    "name": "ipython",
    "version": 3
   },
   "file_extension": ".py",
   "mimetype": "text/x-python",
   "name": "python",
   "nbconvert_exporter": "python",
   "pygments_lexer": "ipython3",
   "version": "3.11.3"
  }
 },
 "nbformat": 4,
 "nbformat_minor": 5
}
