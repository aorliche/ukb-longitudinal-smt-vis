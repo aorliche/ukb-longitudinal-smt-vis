{
 "cells": [
  {
   "cell_type": "code",
   "execution_count": 1,
   "id": "cd30be91",
   "metadata": {},
   "outputs": [
    {
     "name": "stdout",
     "output_type": "stream",
     "text": [
      "['f_22001_0_0', 'f_21003_3_0', 'f_21003_2_0', 'f_21000_0_0', 'CaAfCarDiff', 'CaIndDiff', 'CaChiDiff', 'f_21000_0_0_comb', 'longitudinal']\n"
     ]
    }
   ],
   "source": [
    "import pickle\n",
    "import re\n",
    "\n",
    "demodir = '/home/anton/Documents/Tulane/Research/ImageNomer/data/anton/cohorts/UKB/'\n",
    "\n",
    "demo = pickle.load(open(f'{demodir}/demographics.pkl', 'rb'))\n",
    "\n",
    "print(list(demo.keys()))"
   ]
  },
  {
   "cell_type": "code",
   "execution_count": 2,
   "id": "a3be669b",
   "metadata": {},
   "outputs": [
    {
     "name": "stdout",
     "output_type": "stream",
     "text": [
      "40471 2896\n"
     ]
    }
   ],
   "source": [
    "import pickle\n",
    "\n",
    "field = 25753\n",
    "\n",
    "basedir = '/run/media/anton/AntonData1/UKB_MRI_data_11092022/'\n",
    "\n",
    "fc2 = pickle.load(open(f'{basedir}/{field}_2.pkl', 'rb'))\n",
    "fc3 = pickle.load(open(f'{basedir}/{field}_3.pkl', 'rb'))\n",
    "\n",
    "print(len(fc2), len(fc3))"
   ]
  },
  {
   "cell_type": "code",
   "execution_count": 3,
   "id": "19051643",
   "metadata": {},
   "outputs": [
    {
     "name": "stdout",
     "output_type": "stream",
     "text": [
      "2722 2722\n"
     ]
    }
   ],
   "source": [
    "import numpy as np\n",
    "\n",
    "first = []\n",
    "second = []\n",
    "\n",
    "for sub in demo['f_21003_3_0']:\n",
    "    if sub not in demo['f_21003_2_0']:\n",
    "        continue\n",
    "    try:\n",
    "        p0 = np.load(f'{demodir}/fc/{sub}_task-20227-2_fc.npy')\n",
    "        p1 = np.load(f'{demodir}/fc/{sub}_task-20227-3_fc.npy')\n",
    "#         p0 = fc2[sub]\n",
    "#         p1 = fc3[sub]\n",
    "        first.append(p0)\n",
    "        second.append(p1)\n",
    "    except:\n",
    "        continue\n",
    "    \n",
    "first = np.stack(first)\n",
    "second = np.stack(second)\n",
    "\n",
    "print(len(first), len(second))"
   ]
  },
  {
   "cell_type": "code",
   "execution_count": 20,
   "id": "ee20b6c9",
   "metadata": {},
   "outputs": [
    {
     "name": "stdout",
     "output_type": "stream",
     "text": [
      "0 0.7271744012832642\n",
      "100 0.1502229869365692\n",
      "200 0.0651685893535614\n",
      "300 0.038126390427351\n",
      "400 0.026704229414463043\n",
      "500 0.021200716495513916\n",
      "600 0.017650533467531204\n",
      "700 0.015330527909100056\n",
      "800 0.013998952694237232\n",
      "900 0.01115129329264164\n",
      "1000 0.009940357878804207\n",
      "1100 0.009317653253674507\n",
      "1200 0.008915882557630539\n",
      "1300 0.008620425127446651\n",
      "1400 0.008389702066779137\n",
      "1500 0.008208883926272392\n",
      "1600 0.008063566870987415\n",
      "1700 0.007943530566990376\n",
      "1800 0.007844584994018078\n",
      "1900 0.007760337553918362\n",
      "1999 0.007690546102821827\n",
      "Done\n",
      "tensor(0.8231, device='cuda:0')\n"
     ]
    }
   ],
   "source": [
    "import torch\n",
    "import torch.nn as nn\n",
    "import torch.nn.functional as F\n",
    "\n",
    "from sklearn.model_selection import train_test_split\n",
    "\n",
    "class MLP(nn.Module):\n",
    "    def __init__(self):\n",
    "        super(MLP, self).__init__()\n",
    "#         self.fc1 = nn.Linear(34716,10).float().cuda()\n",
    "#         self.fc2 = nn.Linear(34716,10).float().cuda()\n",
    "        self.fc3 = nn.Linear(34716,10).float().cuda()\n",
    "        self.fc4 = nn.Linear(10,2).float().cuda()\n",
    "        \n",
    "    def forward(self, a, b, ba):\n",
    "#         a = F.relu(self.fc1(a)).squeeze()\n",
    "#         b = F.relu(self.fc2(b)).squeeze()\n",
    "        ba = F.relu(self.fc3(ba)).squeeze()\n",
    "#         x = torch.cat([a, b, ba], dim=1)\n",
    "        x = self.fc4(ba)\n",
    "        return x\n",
    "    \n",
    "N = 1300\n",
    "idcs = np.random.permutation(len(first))\n",
    "    \n",
    "y = np.concatenate([np.zeros(N), np.ones(N)])\n",
    "\n",
    "a = np.concatenate([first[idcs[:N]], second[idcs[N:N*2]]])\n",
    "b = np.concatenate([second[idcs[:N]], first[idcs[N:N*2]]])\n",
    "ba = b-a\n",
    "\n",
    "atr, at, btr, bt, batr, bat, ytr, yt = train_test_split(a, b, ba, y, train_size=0.8)\n",
    "atr, at, btr, bt, batr, bat = [torch.from_numpy(x).float().cuda() for x in [atr, at, btr, bt, batr, bat]]\n",
    "\n",
    "ytr = torch.from_numpy(ytr).long().cuda() \n",
    "yt = torch.from_numpy(yt).long().cuda()\n",
    "    \n",
    "mlp = MLP()\n",
    "optim = torch.optim.Adam(mlp.parameters(), lr=1e-4, weight_decay=1e-4)\n",
    "ce = nn.CrossEntropyLoss()\n",
    "\n",
    "nepochs = 2000\n",
    "pperiod = 100\n",
    "\n",
    "for e in range(nepochs):\n",
    "    optim.zero_grad()\n",
    "    yhat = mlp(atr, btr, batr)\n",
    "    loss = ce(yhat, ytr)\n",
    "    loss.backward()\n",
    "    optim.step()\n",
    "    if e % pperiod == 0 or e == nepochs-1:\n",
    "        print(f'{e} {float(loss)}')\n",
    "        \n",
    "print('Done')\n",
    "\n",
    "with torch.no_grad():\n",
    "    yhat = mlp(at, bt, bat)\n",
    "    loss = torch.mean((torch.argmax(yhat, dim=1).long() == yt).float())\n",
    "    print(loss)"
   ]
  },
  {
   "cell_type": "code",
   "execution_count": null,
   "id": "c544ef8a",
   "metadata": {},
   "outputs": [],
   "source": []
  }
 ],
 "metadata": {
  "kernelspec": {
   "display_name": "Python 3 (ipykernel)",
   "language": "python",
   "name": "python3"
  },
  "language_info": {
   "codemirror_mode": {
    "name": "ipython",
    "version": 3
   },
   "file_extension": ".py",
   "mimetype": "text/x-python",
   "name": "python",
   "nbconvert_exporter": "python",
   "pygments_lexer": "ipython3",
   "version": "3.11.3"
  }
 },
 "nbformat": 4,
 "nbformat_minor": 5
}
